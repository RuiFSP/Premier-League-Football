{
 "cells": [
  {
   "cell_type": "code",
   "execution_count": 70,
   "metadata": {},
   "outputs": [],
   "source": [
    "import requests"
   ]
  },
  {
   "cell_type": "code",
   "execution_count": 71,
   "metadata": {},
   "outputs": [],
   "source": [
    "url = 'http://127.0.0.1:9696/predict'"
   ]
  },
  {
   "cell_type": "code",
   "execution_count": 72,
   "metadata": {},
   "outputs": [],
   "source": [
    "match_data = {\n",
    "    \"home_team\": \"arsenal\",\n",
    "    \"away_team\": \"brentford\",\n",
    "    \"day_of_week\": 4,\n",
    "    \"month\": 8,\n",
    "    \"day_of_week_sin\": -0.433883739117558,\n",
    "    \"day_of_week_cos\": -0.9009688679024191,\n",
    "    \"month_sin\": -0.8660254037844384,\n",
    "    \"month_cos\": -0.5000000000000004,\n",
    "    \"home_roll_3_avg_home_corners\": 11.0,\n",
    "    \"away_roll_3_avg_home_corners\": 10.0,\n",
    "    \"home_roll_3_avg_away_corners\": 2.6666666666666665,\n",
    "    \"away_roll_3_avg_away_corners\": 3.0,\n",
    "    \"home_roll_3_avg_home_yellow_cards\": 1.6666666666666667,\n",
    "    \"away_roll_3_avg_home_yellow_cards\": 2.6666666666666665,\n",
    "    \"home_roll_3_avg_away_yellow_cards\": 3.0,\n",
    "    \"away_roll_3_avg_away_yellow_cards\": 1.3333333333333333,\n",
    "    \"home_roll_3_avg_home_red_cards\": 0.3333333333333333,\n",
    "    \"away_roll_3_avg_home_red_cards\": 0.0,\n",
    "    \"home_roll_3_avg_away_red_cards\": 0.0,\n",
    "    \"away_roll_3_avg_away_red_cards\": 0.0,\n",
    "    \"home_roll_3_avg_ratio_h_a_shots\": 3.775,\n",
    "    \"away_roll_3_avg_ratio_h_a_shots\": 2.986111111111111,\n",
    "    \"home_roll_3_avg_ratio_h_a_fouls\": 1.5529100529100528,\n",
    "    \"away_roll_3_avg_ratio_h_a_fouls\": 2.340740740740741,\n",
    "    \"home_roll_3_avg_ratio_a_h_shots\": 0.8049169859514688,\n",
    "    \"away_roll_3_avg_ratio_a_h_shots\": 0.3510466988727858,\n",
    "    \"home_roll_3_avg_ratio_a_h_fouls\": 0.6762626262626262,\n",
    "    \"away_roll_3_avg_ratio_a_h_fouls\": 0.5028860028860029,\n",
    "    \"home_roll_5_avg_home_corners\": 0.0,\n",
    "    \"away_roll_5_avg_home_corners\": 0.0,\n",
    "    \"home_roll_5_avg_away_corners\": 0.0,\n",
    "    \"away_roll_5_avg_away_corners\": 0.0,\n",
    "    \"home_roll_5_avg_home_yellow_cards\": 0.0,\n",
    "    \"away_roll_5_avg_home_yellow_cards\": 0.0,\n",
    "    \"home_roll_5_avg_away_yellow_cards\": 0.0,\n",
    "    \"away_roll_5_avg_away_yellow_cards\": 0.0,\n",
    "    \"home_roll_5_avg_home_red_cards\": 0.0,\n",
    "    \"away_roll_5_avg_home_red_cards\": 0.0,\n",
    "    \"home_roll_5_avg_away_red_cards\": 0.0,\n",
    "    \"away_roll_5_avg_away_red_cards\": 0.0,\n",
    "    \"home_roll_5_avg_ratio_h_a_shots\": 0.0,\n",
    "    \"away_roll_5_avg_ratio_h_a_shots\": 0.0,\n",
    "    \"home_roll_5_avg_ratio_a_h_shots\": 0.0,\n",
    "    \"away_roll_5_avg_ratio_a_h_shots\": 0.0,\n",
    "    \"home_cumulative_points\": 11,\n",
    "    \"away_cumulative_points\": 0\n",
    "}"
   ]
  },
  {
   "cell_type": "code",
   "execution_count": 77,
   "metadata": {},
   "outputs": [
    {
     "data": {
      "text/plain": [
       "{'Prob_Away_Win': 0.004,\n",
       " 'Prob_Draw': 0.017,\n",
       " 'Prob_Home_Win': 0.979,\n",
       " 'Team_to_Win': 'Home_Win'}"
      ]
     },
     "execution_count": 77,
     "metadata": {},
     "output_type": "execute_result"
    }
   ],
   "source": [
    "requests.post(url, json=match_data).json()"
   ]
  },
  {
   "cell_type": "code",
   "execution_count": null,
   "metadata": {},
   "outputs": [],
   "source": []
  }
 ],
 "metadata": {
  "kernelspec": {
   "display_name": "Premier-League-Football-Rff93ZC3",
   "language": "python",
   "name": "python3"
  },
  "language_info": {
   "codemirror_mode": {
    "name": "ipython",
    "version": 3
   },
   "file_extension": ".py",
   "mimetype": "text/x-python",
   "name": "python",
   "nbconvert_exporter": "python",
   "pygments_lexer": "ipython3",
   "version": "3.12.0"
  }
 },
 "nbformat": 4,
 "nbformat_minor": 2
}
