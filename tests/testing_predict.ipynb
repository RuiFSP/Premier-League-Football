{
 "cells": [
  {
   "cell_type": "code",
   "execution_count": 1,
   "metadata": {},
   "outputs": [],
   "source": [
    "import requests"
   ]
  },
  {
   "cell_type": "code",
   "execution_count": 2,
   "metadata": {},
   "outputs": [],
   "source": [
    "url = 'http://127.0.0.1:9696/predict'"
   ]
  },
  {
   "cell_type": "code",
   "execution_count": 3,
   "metadata": {},
   "outputs": [],
   "source": [
    "match_data = {\n",
    "    \"home_team\": \"arsenal\",\n",
    "    \"away_team\": \"brentford\",\n",
    "    \"date\": \"2021-08-13\"\n",
    "}"
   ]
  },
  {
   "cell_type": "code",
   "execution_count": 4,
   "metadata": {},
   "outputs": [
    {
     "data": {
      "text/plain": [
       "{'Match_Result': 'Home_Win',\n",
       " 'Prob_Away_Win': 0.004,\n",
       " 'Prob_Draw': 0.017,\n",
       " 'Prob_Home_Win': 0.979}"
      ]
     },
     "execution_count": 4,
     "metadata": {},
     "output_type": "execute_result"
    }
   ],
   "source": [
    "requests.post(url, json=match_data).json()"
   ]
  },
  {
   "cell_type": "code",
   "execution_count": null,
   "metadata": {},
   "outputs": [
    {
     "name": "stdout",
     "output_type": "stream",
     "text": [
      "{'Match_Result': 'Home_Win', 'Prob_Away_Win': 0.004, 'Prob_Draw': 0.017, 'Prob_Home_Win': 0.979}\n",
      "{'Match_Result': 'Home_Win', 'Prob_Away_Win': 0.106, 'Prob_Draw': 0.109, 'Prob_Home_Win': 0.785}\n",
      "{'Match_Result': 'Home_Win', 'Prob_Away_Win': 0.106, 'Prob_Draw': 0.109, 'Prob_Home_Win': 0.785}\n",
      "{'Match_Result': 'Home_Win', 'Prob_Away_Win': 0.004, 'Prob_Draw': 0.017, 'Prob_Home_Win': 0.979}\n"
     ]
    }
   ],
   "source": [
    "# test multiple matches\n",
    "for match in [\n",
    "    {\"home_team\": \"arsenal\", \"away_team\": \"brentford\", \"date\": \"2021-08-13\"},\n",
    "    {\"home_team\": \"liverpool\", \"away_team\": \"chelsea\", \"date\": \"2021-08-13\"},\n",
    "    {\"home_team\": \"brentford\", \"away_team\": \"arsenal\", \"date\": \"2021-08-14\"},\n",
    "    {\"home_team\": \"arsenal\", \"away_team\": \"brentford\", \"date\": \"2021-08-14\"},\n",
    "]:\n",
    "    print(requests.post(url, json=match).json())  # test the API endpoint"
   ]
  }
 ],
 "metadata": {
  "kernelspec": {
   "display_name": "Premier-League-Football-Rff93ZC3",
   "language": "python",
   "name": "python3"
  },
  "language_info": {
   "codemirror_mode": {
    "name": "ipython",
    "version": 3
   },
   "file_extension": ".py",
   "mimetype": "text/x-python",
   "name": "python",
   "nbconvert_exporter": "python",
   "pygments_lexer": "ipython3",
   "version": "3.12.0"
  }
 },
 "nbformat": 4,
 "nbformat_minor": 2
}
